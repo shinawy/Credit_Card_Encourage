{
 "cells": [
  {
   "cell_type": "markdown",
   "metadata": {
    "id": "bfbdcaaf"
   },
   "source": [
    "# Case Study: Digital Marketing\n",
    "\n",
    "My name is Xiapei Troung and I am the owner of Dianji, an online advertising company. In our business, the biggest challenge is the potential of large amounts of fake traffic, which not only affects our revenues but also gives us inaccurate data about the ads and their costs. We want to prevent this issue and were told that data science can help. Now, I do not understand much about this field but I hear it does magic. So I decided to show you the data we have and you can tell me what to do with it. We’re recruiting five teams and will hire only the best!"
   ]
  },
  {
   "cell_type": "markdown",
   "metadata": {
    "id": "869ca4e7"
   },
   "source": [
    "## 1.Exploratory and Descriptive Data Analysis "
   ]
  },
  {
   "cell_type": "markdown",
   "metadata": {
    "id": "924ae945"
   },
   "source": [
    "### 1.1 Understanding the data"
   ]
  },
  {
   "cell_type": "code",
   "execution_count": null,
   "metadata": {
    "id": "9f46bd16"
   },
   "outputs": [],
   "source": [
    "#if using colab, keep this cell\n",
    "#remove this cell if using jupyter\n",
    "\n",
    "#from google.colab import drive\n",
    "#drive.mount('/content/drive')"
   ]
  },
  {
   "cell_type": "code",
   "execution_count": null,
   "metadata": {
    "id": "e066a564"
   },
   "outputs": [],
   "source": [
    "import pandas as pd\n",
    "import numpy as np\n",
    "from pandas import Series\n",
    "from numpy.random import randn\n",
    "import matplotlib.pyplot as plt\n",
    "\n",
    "#data=pd.read_csv('/content/drive/Shareddrives/Case study 1/dianji.csv') #if using colab\n",
    "\n",
    "data=pd.read_csv('D:\\AUC\\Fall 21\\Data Science and Optimization\\Case study\\dianji.csv\\dianji.csv') #if jupyter, uncomment and change path "
   ]
  },
  {
   "cell_type": "code",
   "execution_count": null,
   "metadata": {
    "id": "59190929",
    "outputId": "6864eb9e-40af-4b1f-8a77-5f42fa6e45a5"
   },
   "outputs": [
    {
     "name": "stdout",
     "output_type": "stream",
     "text": [
      "<class 'pandas.core.frame.DataFrame'>\n",
      "RangeIndex: 79438446 entries, 0 to 79438445\n",
      "Data columns (total 8 columns):\n",
      " #   Column           Dtype  \n",
      "---  ------           -----  \n",
      " 0   ip               int64  \n",
      " 1   app              float64\n",
      " 2   device           float64\n",
      " 3   os               float64\n",
      " 4   channel          float64\n",
      " 5   click_time       object \n",
      " 6   attributed_time  object \n",
      " 7   is_attributed    float64\n",
      "dtypes: float64(5), int64(1), object(2)\n",
      "memory usage: 4.7+ GB\n"
     ]
    }
   ],
   "source": [
    "data.info()"
   ]
  },
  {
   "cell_type": "markdown",
   "metadata": {
    "id": "072dc2e4"
   },
   "source": [
    "We have 8 features (variables):\n",
    "\n",
    "\n",
    "* ip : address of a click\n",
    "* app : app ID for marketing (for advertising)\n",
    "* device : user’s phone\n",
    "* os : user’s phone os\n",
    "* channel : ID of ad publisher (showing the ad)\n",
    "* click_time : time at which the user clicked on an ad\n",
    "* attributed_time : time by which the app is downloaded\n",
    "* is_attributed : the app is downloaded or not"
   ]
  },
  {
   "cell_type": "markdown",
   "metadata": {
    "id": "ac337c1c"
   },
   "source": [
    "**Univariate Summary:**"
   ]
  },
  {
   "cell_type": "code",
   "execution_count": null,
   "metadata": {
    "id": "0e2a455e",
    "outputId": "7b754319-9860-486b-c419-de7f58f50c8b"
   },
   "outputs": [
    {
     "data": {
      "text/html": [
       "<div>\n",
       "<style scoped>\n",
       "    .dataframe tbody tr th:only-of-type {\n",
       "        vertical-align: middle;\n",
       "    }\n",
       "\n",
       "    .dataframe tbody tr th {\n",
       "        vertical-align: top;\n",
       "    }\n",
       "\n",
       "    .dataframe thead th {\n",
       "        text-align: right;\n",
       "    }\n",
       "</style>\n",
       "<table border=\"1\" class=\"dataframe\">\n",
       "  <thead>\n",
       "    <tr style=\"text-align: right;\">\n",
       "      <th></th>\n",
       "      <th>ip</th>\n",
       "      <th>app</th>\n",
       "      <th>device</th>\n",
       "      <th>os</th>\n",
       "      <th>channel</th>\n",
       "      <th>is_attributed</th>\n",
       "      <th>conversion_time</th>\n",
       "    </tr>\n",
       "  </thead>\n",
       "  <tbody>\n",
       "    <tr>\n",
       "      <th>count</th>\n",
       "      <td>7.943844e+07</td>\n",
       "      <td>7.943844e+07</td>\n",
       "      <td>7.943844e+07</td>\n",
       "      <td>7.943844e+07</td>\n",
       "      <td>7.943844e+07</td>\n",
       "      <td>7.943844e+07</td>\n",
       "      <td>195813.000000</td>\n",
       "    </tr>\n",
       "    <tr>\n",
       "      <th>mean</th>\n",
       "      <td>8.722492e+04</td>\n",
       "      <td>1.251737e+01</td>\n",
       "      <td>3.441875e+01</td>\n",
       "      <td>2.495902e+01</td>\n",
       "      <td>2.669326e+02</td>\n",
       "      <td>2.464965e-03</td>\n",
       "      <td>106.382538</td>\n",
       "    </tr>\n",
       "    <tr>\n",
       "      <th>std</th>\n",
       "      <td>5.912689e+04</td>\n",
       "      <td>1.608848e+01</td>\n",
       "      <td>3.204451e+02</td>\n",
       "      <td>6.478211e+01</td>\n",
       "      <td>1.292223e+02</td>\n",
       "      <td>4.958719e-02</td>\n",
       "      <td>203.827202</td>\n",
       "    </tr>\n",
       "    <tr>\n",
       "      <th>min</th>\n",
       "      <td>5.000000e+00</td>\n",
       "      <td>0.000000e+00</td>\n",
       "      <td>0.000000e+00</td>\n",
       "      <td>0.000000e+00</td>\n",
       "      <td>0.000000e+00</td>\n",
       "      <td>0.000000e+00</td>\n",
       "      <td>0.000000</td>\n",
       "    </tr>\n",
       "    <tr>\n",
       "      <th>25%</th>\n",
       "      <td>4.046200e+04</td>\n",
       "      <td>3.000000e+00</td>\n",
       "      <td>1.000000e+00</td>\n",
       "      <td>1.300000e+01</td>\n",
       "      <td>1.400000e+02</td>\n",
       "      <td>0.000000e+00</td>\n",
       "      <td>1.000000</td>\n",
       "    </tr>\n",
       "    <tr>\n",
       "      <th>50%</th>\n",
       "      <td>8.014200e+04</td>\n",
       "      <td>1.200000e+01</td>\n",
       "      <td>1.000000e+00</td>\n",
       "      <td>1.800000e+01</td>\n",
       "      <td>2.450000e+02</td>\n",
       "      <td>0.000000e+00</td>\n",
       "      <td>7.000000</td>\n",
       "    </tr>\n",
       "    <tr>\n",
       "      <th>75%</th>\n",
       "      <td>1.195020e+05</td>\n",
       "      <td>1.500000e+01</td>\n",
       "      <td>1.000000e+00</td>\n",
       "      <td>1.900000e+01</td>\n",
       "      <td>3.790000e+02</td>\n",
       "      <td>0.000000e+00</td>\n",
       "      <td>108.000000</td>\n",
       "    </tr>\n",
       "    <tr>\n",
       "      <th>max</th>\n",
       "      <td>2.875400e+05</td>\n",
       "      <td>7.360000e+02</td>\n",
       "      <td>3.861000e+03</td>\n",
       "      <td>8.660000e+02</td>\n",
       "      <td>4.980000e+02</td>\n",
       "      <td>1.000000e+00</td>\n",
       "      <td>1432.000000</td>\n",
       "    </tr>\n",
       "  </tbody>\n",
       "</table>\n",
       "</div>"
      ],
      "text/plain": [
       "                 ip           app        device            os       channel  \\\n",
       "count  7.943844e+07  7.943844e+07  7.943844e+07  7.943844e+07  7.943844e+07   \n",
       "mean   8.722492e+04  1.251737e+01  3.441875e+01  2.495902e+01  2.669326e+02   \n",
       "std    5.912689e+04  1.608848e+01  3.204451e+02  6.478211e+01  1.292223e+02   \n",
       "min    5.000000e+00  0.000000e+00  0.000000e+00  0.000000e+00  0.000000e+00   \n",
       "25%    4.046200e+04  3.000000e+00  1.000000e+00  1.300000e+01  1.400000e+02   \n",
       "50%    8.014200e+04  1.200000e+01  1.000000e+00  1.800000e+01  2.450000e+02   \n",
       "75%    1.195020e+05  1.500000e+01  1.000000e+00  1.900000e+01  3.790000e+02   \n",
       "max    2.875400e+05  7.360000e+02  3.861000e+03  8.660000e+02  4.980000e+02   \n",
       "\n",
       "       is_attributed  conversion_time  \n",
       "count   7.943844e+07    195813.000000  \n",
       "mean    2.464965e-03       106.382538  \n",
       "std     4.958719e-02       203.827202  \n",
       "min     0.000000e+00         0.000000  \n",
       "25%     0.000000e+00         1.000000  \n",
       "50%     0.000000e+00         7.000000  \n",
       "75%     0.000000e+00       108.000000  \n",
       "max     1.000000e+00      1432.000000  "
      ]
     },
     "execution_count": 24,
     "metadata": {},
     "output_type": "execute_result"
    }
   ],
   "source": [
    "data.describe()"
   ]
  },
  {
   "cell_type": "code",
   "execution_count": null,
   "metadata": {
    "id": "834669d7"
   },
   "outputs": [],
   "source": [
    "Uips = data['ip'].unique()\n",
    "Uapps = data['app'].unique()\n",
    "Udevices = data['device'].unique()\n",
    "Uos = data['os'].unique()\n",
    "Uchannels = data['channel'].unique()"
   ]
  },
  {
   "cell_type": "code",
   "execution_count": null,
   "metadata": {
    "id": "48d4c6bb",
    "outputId": "a33da54a-0532-4b1f-de28-1b7dd3a08e98"
   },
   "outputs": [
    {
     "name": "stdout",
     "output_type": "stream",
     "text": [
      "number of unique IPs = 162767\n",
      "number of unique apps= 595\n",
      "number of unique devices = 2444\n",
      "number of unique os = 597\n",
      "number of unique channels = 188\n"
     ]
    }
   ],
   "source": [
    "print(\"number of unique IPs =\", len(Uips))\n",
    "print(\"number of unique apps=\", len(Uapps))\n",
    "print(\"number of unique devices =\", len(Udevices))\n",
    "print(\"number of unique os =\", len(Uos))\n",
    "print(\"number of unique channels =\", len(Uchannels))"
   ]
  },
  {
   "cell_type": "markdown",
   "metadata": {
    "id": "de5c9222"
   },
   "source": [
    "### 1.2 Data Wrangling & Feature Engineering"
   ]
  },
  {
   "cell_type": "markdown",
   "metadata": {
    "id": "de02ce7b"
   },
   "source": [
    "Converting time to datetime format:"
   ]
  },
  {
   "cell_type": "code",
   "execution_count": null,
   "metadata": {
    "id": "f4235706"
   },
   "outputs": [],
   "source": [
    "data.click_time = pd.to_datetime(data.click_time)\n",
    "data.attributed_time = pd.to_datetime(data.attributed_time)"
   ]
  },
  {
   "cell_type": "markdown",
   "metadata": {
    "id": "75779d78"
   },
   "source": [
    "Adding a new column (conversion time) that represents the time taken between the ad click and the download :"
   ]
  },
  {
   "cell_type": "code",
   "execution_count": null,
   "metadata": {
    "id": "3b238508"
   },
   "outputs": [],
   "source": [
    "data['conversion_time']= (data.attributed_time - data.click_time).astype('timedelta64[m]')"
   ]
  },
  {
   "cell_type": "markdown",
   "metadata": {
    "id": "61338d62"
   },
   "source": [
    "Adding a new column real/fake that is initialized with R (real) for all traffic, and will change later based on our prediction algorithm\n",
    "\n",
    "We'll add another col reason that indicates the reason if it is fake"
   ]
  },
  {
   "cell_type": "code",
   "execution_count": null,
   "metadata": {
    "id": "ba88b497"
   },
   "outputs": [],
   "source": [
    "data['real/fake'] = 'R'\n",
    "data['reason'] = 1"
   ]
  },
  {
   "cell_type": "markdown",
   "metadata": {
    "id": "4b248399"
   },
   "source": [
    "Drop rows with NaN click_time value"
   ]
  },
  {
   "cell_type": "code",
   "execution_count": null,
   "metadata": {
    "id": "22a1d822"
   },
   "outputs": [],
   "source": [
    "data = data.dropna(axis=0, subset=['click_time'])"
   ]
  },
  {
   "cell_type": "markdown",
   "metadata": {
    "id": "8c411bb5"
   },
   "source": [
    "We can see below the two new column. The conversion time is in minutes."
   ]
  },
  {
   "cell_type": "code",
   "execution_count": null,
   "metadata": {
    "id": "c4fe1a32",
    "outputId": "c465ae76-df71-48d8-bb42-ad0f18c2d4fb"
   },
   "outputs": [
    {
     "data": {
      "text/html": [
       "<div>\n",
       "<style scoped>\n",
       "    .dataframe tbody tr th:only-of-type {\n",
       "        vertical-align: middle;\n",
       "    }\n",
       "\n",
       "    .dataframe tbody tr th {\n",
       "        vertical-align: top;\n",
       "    }\n",
       "\n",
       "    .dataframe thead th {\n",
       "        text-align: right;\n",
       "    }\n",
       "</style>\n",
       "<table border=\"1\" class=\"dataframe\">\n",
       "  <thead>\n",
       "    <tr style=\"text-align: right;\">\n",
       "      <th></th>\n",
       "      <th>ip</th>\n",
       "      <th>app</th>\n",
       "      <th>device</th>\n",
       "      <th>os</th>\n",
       "      <th>channel</th>\n",
       "      <th>click_time</th>\n",
       "      <th>attributed_time</th>\n",
       "      <th>is_attributed</th>\n",
       "      <th>conversion_time</th>\n",
       "      <th>real/fake</th>\n",
       "    </tr>\n",
       "  </thead>\n",
       "  <tbody>\n",
       "    <tr>\n",
       "      <th>103</th>\n",
       "      <td>204158</td>\n",
       "      <td>35.0</td>\n",
       "      <td>1.0</td>\n",
       "      <td>13.0</td>\n",
       "      <td>21.0</td>\n",
       "      <td>2017-11-06 15:41:07</td>\n",
       "      <td>2017-11-07 08:17:19</td>\n",
       "      <td>1.0</td>\n",
       "      <td>996.0</td>\n",
       "      <td>R</td>\n",
       "    </tr>\n",
       "    <tr>\n",
       "      <th>1504</th>\n",
       "      <td>29692</td>\n",
       "      <td>9.0</td>\n",
       "      <td>1.0</td>\n",
       "      <td>22.0</td>\n",
       "      <td>215.0</td>\n",
       "      <td>2017-11-06 16:00:02</td>\n",
       "      <td>2017-11-07 10:05:22</td>\n",
       "      <td>1.0</td>\n",
       "      <td>1085.0</td>\n",
       "      <td>R</td>\n",
       "    </tr>\n",
       "    <tr>\n",
       "      <th>1798</th>\n",
       "      <td>64516</td>\n",
       "      <td>35.0</td>\n",
       "      <td>1.0</td>\n",
       "      <td>13.0</td>\n",
       "      <td>21.0</td>\n",
       "      <td>2017-11-06 16:00:02</td>\n",
       "      <td>2017-11-06 23:40:50</td>\n",
       "      <td>1.0</td>\n",
       "      <td>460.0</td>\n",
       "      <td>R</td>\n",
       "    </tr>\n",
       "    <tr>\n",
       "      <th>2102</th>\n",
       "      <td>172429</td>\n",
       "      <td>35.0</td>\n",
       "      <td>1.0</td>\n",
       "      <td>46.0</td>\n",
       "      <td>274.0</td>\n",
       "      <td>2017-11-06 16:00:03</td>\n",
       "      <td>2017-11-07 00:55:29</td>\n",
       "      <td>1.0</td>\n",
       "      <td>535.0</td>\n",
       "      <td>R</td>\n",
       "    </tr>\n",
       "    <tr>\n",
       "      <th>3056</th>\n",
       "      <td>199085</td>\n",
       "      <td>35.0</td>\n",
       "      <td>1.0</td>\n",
       "      <td>13.0</td>\n",
       "      <td>274.0</td>\n",
       "      <td>2017-11-06 16:00:04</td>\n",
       "      <td>2017-11-06 23:04:54</td>\n",
       "      <td>1.0</td>\n",
       "      <td>424.0</td>\n",
       "      <td>R</td>\n",
       "    </tr>\n",
       "    <tr>\n",
       "      <th>...</th>\n",
       "      <td>...</td>\n",
       "      <td>...</td>\n",
       "      <td>...</td>\n",
       "      <td>...</td>\n",
       "      <td>...</td>\n",
       "      <td>...</td>\n",
       "      <td>...</td>\n",
       "      <td>...</td>\n",
       "      <td>...</td>\n",
       "      <td>...</td>\n",
       "    </tr>\n",
       "    <tr>\n",
       "      <th>79436984</th>\n",
       "      <td>230456</td>\n",
       "      <td>43.0</td>\n",
       "      <td>1.0</td>\n",
       "      <td>19.0</td>\n",
       "      <td>330.0</td>\n",
       "      <td>2017-11-08 03:05:48</td>\n",
       "      <td>2017-11-08 08:59:28</td>\n",
       "      <td>1.0</td>\n",
       "      <td>353.0</td>\n",
       "      <td>R</td>\n",
       "    </tr>\n",
       "    <tr>\n",
       "      <th>79437129</th>\n",
       "      <td>233184</td>\n",
       "      <td>10.0</td>\n",
       "      <td>1.0</td>\n",
       "      <td>61.0</td>\n",
       "      <td>113.0</td>\n",
       "      <td>2017-11-08 03:05:49</td>\n",
       "      <td>2017-11-08 03:06:20</td>\n",
       "      <td>1.0</td>\n",
       "      <td>0.0</td>\n",
       "      <td>R</td>\n",
       "    </tr>\n",
       "    <tr>\n",
       "      <th>79437254</th>\n",
       "      <td>225897</td>\n",
       "      <td>72.0</td>\n",
       "      <td>1.0</td>\n",
       "      <td>19.0</td>\n",
       "      <td>101.0</td>\n",
       "      <td>2017-11-08 03:05:49</td>\n",
       "      <td>2017-11-08 04:07:16</td>\n",
       "      <td>1.0</td>\n",
       "      <td>61.0</td>\n",
       "      <td>R</td>\n",
       "    </tr>\n",
       "    <tr>\n",
       "      <th>79437463</th>\n",
       "      <td>192075</td>\n",
       "      <td>35.0</td>\n",
       "      <td>1.0</td>\n",
       "      <td>19.0</td>\n",
       "      <td>274.0</td>\n",
       "      <td>2017-11-08 03:05:49</td>\n",
       "      <td>2017-11-08 13:42:45</td>\n",
       "      <td>1.0</td>\n",
       "      <td>636.0</td>\n",
       "      <td>R</td>\n",
       "    </tr>\n",
       "    <tr>\n",
       "      <th>79438184</th>\n",
       "      <td>275317</td>\n",
       "      <td>72.0</td>\n",
       "      <td>1.0</td>\n",
       "      <td>18.0</td>\n",
       "      <td>101.0</td>\n",
       "      <td>2017-11-08 03:05:50</td>\n",
       "      <td>2017-11-08 03:07:32</td>\n",
       "      <td>1.0</td>\n",
       "      <td>1.0</td>\n",
       "      <td>R</td>\n",
       "    </tr>\n",
       "  </tbody>\n",
       "</table>\n",
       "<p>195813 rows × 10 columns</p>\n",
       "</div>"
      ],
      "text/plain": [
       "              ip   app  device    os  channel          click_time  \\\n",
       "103       204158  35.0     1.0  13.0     21.0 2017-11-06 15:41:07   \n",
       "1504       29692   9.0     1.0  22.0    215.0 2017-11-06 16:00:02   \n",
       "1798       64516  35.0     1.0  13.0     21.0 2017-11-06 16:00:02   \n",
       "2102      172429  35.0     1.0  46.0    274.0 2017-11-06 16:00:03   \n",
       "3056      199085  35.0     1.0  13.0    274.0 2017-11-06 16:00:04   \n",
       "...          ...   ...     ...   ...      ...                 ...   \n",
       "79436984  230456  43.0     1.0  19.0    330.0 2017-11-08 03:05:48   \n",
       "79437129  233184  10.0     1.0  61.0    113.0 2017-11-08 03:05:49   \n",
       "79437254  225897  72.0     1.0  19.0    101.0 2017-11-08 03:05:49   \n",
       "79437463  192075  35.0     1.0  19.0    274.0 2017-11-08 03:05:49   \n",
       "79438184  275317  72.0     1.0  18.0    101.0 2017-11-08 03:05:50   \n",
       "\n",
       "             attributed_time  is_attributed  conversion_time real/fake  \n",
       "103      2017-11-07 08:17:19            1.0            996.0         R  \n",
       "1504     2017-11-07 10:05:22            1.0           1085.0         R  \n",
       "1798     2017-11-06 23:40:50            1.0            460.0         R  \n",
       "2102     2017-11-07 00:55:29            1.0            535.0         R  \n",
       "3056     2017-11-06 23:04:54            1.0            424.0         R  \n",
       "...                      ...            ...              ...       ...  \n",
       "79436984 2017-11-08 08:59:28            1.0            353.0         R  \n",
       "79437129 2017-11-08 03:06:20            1.0              0.0         R  \n",
       "79437254 2017-11-08 04:07:16            1.0             61.0         R  \n",
       "79437463 2017-11-08 13:42:45            1.0            636.0         R  \n",
       "79438184 2017-11-08 03:07:32            1.0              1.0         R  \n",
       "\n",
       "[195813 rows x 10 columns]"
      ]
     },
     "execution_count": 13,
     "metadata": {},
     "output_type": "execute_result"
    }
   ],
   "source": [
    "data.loc[data['is_attributed'] == 1.0]"
   ]
  },
  {
   "cell_type": "code",
   "execution_count": null,
   "metadata": {
    "id": "29216fa6"
   },
   "outputs": [],
   "source": [
    "totalClicks = len(data.index)\n",
    "totalAttributed = len(data.loc[data['is_attributed'] == 1.0])"
   ]
  },
  {
   "cell_type": "code",
   "execution_count": null,
   "metadata": {
    "id": "becde62a",
    "outputId": "410c7291-9316-4961-bd3e-ff9763b2db98"
   },
   "outputs": [
    {
     "name": "stdout",
     "output_type": "stream",
     "text": [
      "Total number of clicks = 79438445\n",
      "Total number of Attributions = 195813\n",
      "Overall Attribution percentage = 0.2464965168943073\n"
     ]
    }
   ],
   "source": [
    "print(\"Total number of clicks =\", totalClicks)\n",
    "print(\"Total number of Attributions =\", totalAttributed)\n",
    "print(\"Overall Attribution percentage =\", (totalAttributed/totalClicks)*100)\n"
   ]
  },
  {
   "cell_type": "markdown",
   "metadata": {
    "id": "a0870090"
   },
   "source": [
    "So, the data shows that only 0.25 % of people who click on an ad, download the app.\n",
    "\n",
    "This certainly raises question marks and indicates that there must be a lot of fake clicks present in the data."
   ]
  },
  {
   "cell_type": "code",
   "execution_count": null,
   "metadata": {
    "id": "2da18294"
   },
   "outputs": [],
   "source": [
    "#IP and #clicks\n",
    "#Bar chart (x=ip, y=click count)\n",
    "\n",
    "import matplotlib.pyplot as plt\n",
    "\n",
    "fig, ax = plt.subplots()\n",
    "gdata['ip'].value_counts().plot(ax=ax, kind='bar')"
   ]
  },
  {
   "cell_type": "markdown",
   "metadata": {
    "id": "ewHsBggh-5kn"
   },
   "source": [
    "Getting the relationship between the app and the attribution percentage (count of clicks / count of attributions):\n",
    " "
   ]
  },
  {
   "cell_type": "code",
   "execution_count": null,
   "metadata": {
    "id": "a1402b6f",
    "outputId": "e402ffd2-0fd0-4da2-a4f1-28c4af8ce5cb"
   },
   "outputs": [
    {
     "data": {
      "text/plain": [
       "3.0      13479830\n",
       "12.0     10778245\n",
       "2.0       9214272\n",
       "15.0      7865194\n",
       "18.0      6682312\n",
       "           ...   \n",
       "348.0           1\n",
       "271.0           1\n",
       "674.0           1\n",
       "650.0           1\n",
       "735.0           1\n",
       "Name: app, Length: 594, dtype: int64"
      ]
     },
     "execution_count": 26,
     "metadata": {},
     "output_type": "execute_result"
    }
   ],
   "source": [
    "appCounts = data['app'].value_counts()\n",
    "appCounts"
   ]
  },
  {
   "cell_type": "code",
   "execution_count": null,
   "metadata": {
    "id": "097d4925",
    "outputId": "6cc874d1-1a30-4184-d906-b9e44b722ab9"
   },
   "outputs": [
    {
     "data": {
      "text/html": [
       "<div>\n",
       "<style scoped>\n",
       "    .dataframe tbody tr th:only-of-type {\n",
       "        vertical-align: middle;\n",
       "    }\n",
       "\n",
       "    .dataframe tbody tr th {\n",
       "        vertical-align: top;\n",
       "    }\n",
       "\n",
       "    .dataframe thead th {\n",
       "        text-align: right;\n",
       "    }\n",
       "</style>\n",
       "<table border=\"1\" class=\"dataframe\">\n",
       "  <thead>\n",
       "    <tr style=\"text-align: right;\">\n",
       "      <th></th>\n",
       "      <th>freq</th>\n",
       "    </tr>\n",
       "  </thead>\n",
       "  <tbody>\n",
       "    <tr>\n",
       "      <th>3.0</th>\n",
       "      <td>13479830</td>\n",
       "    </tr>\n",
       "    <tr>\n",
       "      <th>12.0</th>\n",
       "      <td>10778245</td>\n",
       "    </tr>\n",
       "    <tr>\n",
       "      <th>2.0</th>\n",
       "      <td>9214272</td>\n",
       "    </tr>\n",
       "    <tr>\n",
       "      <th>15.0</th>\n",
       "      <td>7865194</td>\n",
       "    </tr>\n",
       "    <tr>\n",
       "      <th>18.0</th>\n",
       "      <td>6682312</td>\n",
       "    </tr>\n",
       "  </tbody>\n",
       "</table>\n",
       "</div>"
      ],
      "text/plain": [
       "          freq\n",
       "3.0   13479830\n",
       "12.0  10778245\n",
       "2.0    9214272\n",
       "15.0   7865194\n",
       "18.0   6682312"
      ]
     },
     "execution_count": 47,
     "metadata": {},
     "output_type": "execute_result"
    }
   ],
   "source": [
    "Apps_df=pd.DataFrame()\n",
    "Apps_df=appCounts.to_frame( name=\"freq\")\n",
    "Apps_df.head()"
   ]
  },
  {
   "cell_type": "code",
   "execution_count": null,
   "metadata": {
    "id": "2a7659a8"
   },
   "outputs": [],
   "source": [
    "subset_df = data[data[\"is_attributed\"] == 1] #data which attributed = 1\n",
    "appAttrCounts = subset_df['app'].value_counts()"
   ]
  },
  {
   "cell_type": "code",
   "execution_count": null,
   "metadata": {
    "id": "117b7ab8",
    "outputId": "9bd36d1d-a0c4-4121-ebda-64e7fdae8bf3"
   },
   "outputs": [
    {
     "data": {
      "text/html": [
       "<div>\n",
       "<style scoped>\n",
       "    .dataframe tbody tr th:only-of-type {\n",
       "        vertical-align: middle;\n",
       "    }\n",
       "\n",
       "    .dataframe tbody tr th {\n",
       "        vertical-align: top;\n",
       "    }\n",
       "\n",
       "    .dataframe thead th {\n",
       "        text-align: right;\n",
       "    }\n",
       "</style>\n",
       "<table border=\"1\" class=\"dataframe\">\n",
       "  <thead>\n",
       "    <tr style=\"text-align: right;\">\n",
       "      <th></th>\n",
       "      <th>Attrfreq</th>\n",
       "    </tr>\n",
       "  </thead>\n",
       "  <tbody>\n",
       "    <tr>\n",
       "      <th>19.0</th>\n",
       "      <td>52175</td>\n",
       "    </tr>\n",
       "    <tr>\n",
       "      <th>35.0</th>\n",
       "      <td>35272</td>\n",
       "    </tr>\n",
       "    <tr>\n",
       "      <th>29.0</th>\n",
       "      <td>16705</td>\n",
       "    </tr>\n",
       "    <tr>\n",
       "      <th>10.0</th>\n",
       "      <td>14239</td>\n",
       "    </tr>\n",
       "    <tr>\n",
       "      <th>5.0</th>\n",
       "      <td>10627</td>\n",
       "    </tr>\n",
       "  </tbody>\n",
       "</table>\n",
       "</div>"
      ],
      "text/plain": [
       "      Attrfreq\n",
       "19.0     52175\n",
       "35.0     35272\n",
       "29.0     16705\n",
       "10.0     14239\n",
       "5.0      10627"
      ]
     },
     "execution_count": 51,
     "metadata": {},
     "output_type": "execute_result"
    }
   ],
   "source": [
    "Apps_df2=pd.DataFrame()\n",
    "Apps_df2=appAttrCounts.to_frame( name=\"Attrfreq\")\n",
    "Apps_df2.head()"
   ]
  },
  {
   "cell_type": "code",
   "execution_count": null,
   "metadata": {
    "id": "5534409f",
    "outputId": "0c891003-364b-4e19-d75d-075dea3e402c"
   },
   "outputs": [
    {
     "data": {
      "text/html": [
       "<div>\n",
       "<style scoped>\n",
       "    .dataframe tbody tr th:only-of-type {\n",
       "        vertical-align: middle;\n",
       "    }\n",
       "\n",
       "    .dataframe tbody tr th {\n",
       "        vertical-align: top;\n",
       "    }\n",
       "\n",
       "    .dataframe thead th {\n",
       "        text-align: right;\n",
       "    }\n",
       "</style>\n",
       "<table border=\"1\" class=\"dataframe\">\n",
       "  <thead>\n",
       "    <tr style=\"text-align: right;\">\n",
       "      <th></th>\n",
       "      <th>freq</th>\n",
       "      <th>Attrfreq</th>\n",
       "    </tr>\n",
       "  </thead>\n",
       "  <tbody>\n",
       "    <tr>\n",
       "      <th>0.0</th>\n",
       "      <td>810</td>\n",
       "      <td>253.0</td>\n",
       "    </tr>\n",
       "    <tr>\n",
       "      <th>1.0</th>\n",
       "      <td>2861615</td>\n",
       "      <td>634.0</td>\n",
       "    </tr>\n",
       "    <tr>\n",
       "      <th>2.0</th>\n",
       "      <td>9214272</td>\n",
       "      <td>2782.0</td>\n",
       "    </tr>\n",
       "    <tr>\n",
       "      <th>3.0</th>\n",
       "      <td>13479830</td>\n",
       "      <td>4559.0</td>\n",
       "    </tr>\n",
       "    <tr>\n",
       "      <th>4.0</th>\n",
       "      <td>43411</td>\n",
       "      <td>5.0</td>\n",
       "    </tr>\n",
       "  </tbody>\n",
       "</table>\n",
       "</div>"
      ],
      "text/plain": [
       "         freq  Attrfreq\n",
       "0.0       810     253.0\n",
       "1.0   2861615     634.0\n",
       "2.0   9214272    2782.0\n",
       "3.0  13479830    4559.0\n",
       "4.0     43411       5.0"
      ]
     },
     "execution_count": 52,
     "metadata": {},
     "output_type": "execute_result"
    }
   ],
   "source": [
    "AppsDF = pd.concat([Apps_df,Apps_df2], axis=1)\n",
    "AppsDF.head()"
   ]
  },
  {
   "cell_type": "code",
   "execution_count": null,
   "metadata": {
    "id": "35df15f8",
    "outputId": "91a87248-c1c6-4265-804c-18ca8fbc9aad"
   },
   "outputs": [
    {
     "data": {
      "text/html": [
       "<div>\n",
       "<style scoped>\n",
       "    .dataframe tbody tr th:only-of-type {\n",
       "        vertical-align: middle;\n",
       "    }\n",
       "\n",
       "    .dataframe tbody tr th {\n",
       "        vertical-align: top;\n",
       "    }\n",
       "\n",
       "    .dataframe thead th {\n",
       "        text-align: right;\n",
       "    }\n",
       "</style>\n",
       "<table border=\"1\" class=\"dataframe\">\n",
       "  <thead>\n",
       "    <tr style=\"text-align: right;\">\n",
       "      <th></th>\n",
       "      <th>freq</th>\n",
       "      <th>Attrfreq</th>\n",
       "      <th>Attr %</th>\n",
       "    </tr>\n",
       "  </thead>\n",
       "  <tbody>\n",
       "    <tr>\n",
       "      <th>0.0</th>\n",
       "      <td>810</td>\n",
       "      <td>253.0</td>\n",
       "      <td>31.234568</td>\n",
       "    </tr>\n",
       "    <tr>\n",
       "      <th>1.0</th>\n",
       "      <td>2861615</td>\n",
       "      <td>634.0</td>\n",
       "      <td>0.022155</td>\n",
       "    </tr>\n",
       "    <tr>\n",
       "      <th>2.0</th>\n",
       "      <td>9214272</td>\n",
       "      <td>2782.0</td>\n",
       "      <td>0.030192</td>\n",
       "    </tr>\n",
       "    <tr>\n",
       "      <th>3.0</th>\n",
       "      <td>13479830</td>\n",
       "      <td>4559.0</td>\n",
       "      <td>0.033821</td>\n",
       "    </tr>\n",
       "    <tr>\n",
       "      <th>4.0</th>\n",
       "      <td>43411</td>\n",
       "      <td>5.0</td>\n",
       "      <td>0.011518</td>\n",
       "    </tr>\n",
       "  </tbody>\n",
       "</table>\n",
       "</div>"
      ],
      "text/plain": [
       "         freq  Attrfreq     Attr %\n",
       "0.0       810     253.0  31.234568\n",
       "1.0   2861615     634.0   0.022155\n",
       "2.0   9214272    2782.0   0.030192\n",
       "3.0  13479830    4559.0   0.033821\n",
       "4.0     43411       5.0   0.011518"
      ]
     },
     "execution_count": 53,
     "metadata": {},
     "output_type": "execute_result"
    }
   ],
   "source": [
    "AppsDF['Attr %'] = (AppsDF['Attrfreq']/AppsDF['freq'])*100\n",
    "AppsDF.head()"
   ]
  },
  {
   "cell_type": "code",
   "execution_count": null,
   "metadata": {
    "id": "e0cbadfb",
    "outputId": "d5e6c044-8cfe-4696-9522-cc41e5d87564"
   },
   "outputs": [
    {
     "data": {
      "text/html": [
       "<div>\n",
       "<style scoped>\n",
       "    .dataframe tbody tr th:only-of-type {\n",
       "        vertical-align: middle;\n",
       "    }\n",
       "\n",
       "    .dataframe tbody tr th {\n",
       "        vertical-align: top;\n",
       "    }\n",
       "\n",
       "    .dataframe thead th {\n",
       "        text-align: right;\n",
       "    }\n",
       "</style>\n",
       "<table border=\"1\" class=\"dataframe\">\n",
       "  <thead>\n",
       "    <tr style=\"text-align: right;\">\n",
       "      <th></th>\n",
       "      <th>app</th>\n",
       "      <th>freq</th>\n",
       "      <th>Attrfreq</th>\n",
       "      <th>Attr %</th>\n",
       "    </tr>\n",
       "    <tr>\n",
       "      <th></th>\n",
       "      <th></th>\n",
       "      <th></th>\n",
       "      <th></th>\n",
       "      <th></th>\n",
       "    </tr>\n",
       "  </thead>\n",
       "  <tbody>\n",
       "    <tr>\n",
       "      <th>0.0</th>\n",
       "      <td>0.0</td>\n",
       "      <td>810</td>\n",
       "      <td>253.0</td>\n",
       "      <td>31.234568</td>\n",
       "    </tr>\n",
       "    <tr>\n",
       "      <th>1.0</th>\n",
       "      <td>1.0</td>\n",
       "      <td>2861615</td>\n",
       "      <td>634.0</td>\n",
       "      <td>0.022155</td>\n",
       "    </tr>\n",
       "    <tr>\n",
       "      <th>2.0</th>\n",
       "      <td>2.0</td>\n",
       "      <td>9214272</td>\n",
       "      <td>2782.0</td>\n",
       "      <td>0.030192</td>\n",
       "    </tr>\n",
       "    <tr>\n",
       "      <th>3.0</th>\n",
       "      <td>3.0</td>\n",
       "      <td>13479830</td>\n",
       "      <td>4559.0</td>\n",
       "      <td>0.033821</td>\n",
       "    </tr>\n",
       "    <tr>\n",
       "      <th>4.0</th>\n",
       "      <td>4.0</td>\n",
       "      <td>43411</td>\n",
       "      <td>5.0</td>\n",
       "      <td>0.011518</td>\n",
       "    </tr>\n",
       "  </tbody>\n",
       "</table>\n",
       "</div>"
      ],
      "text/plain": [
       "     app      freq  Attrfreq     Attr %\n",
       "                                       \n",
       "0.0  0.0       810     253.0  31.234568\n",
       "1.0  1.0   2861615     634.0   0.022155\n",
       "2.0  2.0   9214272    2782.0   0.030192\n",
       "3.0  3.0  13479830    4559.0   0.033821\n",
       "4.0  4.0     43411       5.0   0.011518"
      ]
     },
     "execution_count": 66,
     "metadata": {},
     "output_type": "execute_result"
    }
   ],
   "source": [
    "AppsDF['app'] = AppsDF.index\n",
    "AppsDF.insert(0, 'app',AppsDF.pop('app'))\n",
    "\n",
    "AppsDF.head()"
   ]
  },
  {
   "cell_type": "code",
   "execution_count": null,
   "metadata": {
    "id": "1b4a5459",
    "outputId": "dca89494-7af1-4217-f1a9-57ae3c6f0a67"
   },
   "outputs": [
    {
     "name": "stdout",
     "output_type": "stream",
     "text": [
      "True\n"
     ]
    },
    {
     "data": {
      "image/png": "[encoded data removed]",
      "text/plain": [
       "<Figure size 1080x720 with 1 Axes>"
      ]
     },
     "metadata": {
      "needs_background": "light"
     },
     "output_type": "display_data"
    }
   ],
   "source": [
    "plt.rcParams[\"figure.figsize\"] = (15,10)\n",
    "\n",
    "ax1 = AppsDF.plot(kind='scatter', x='app', y='freq', color='r')    \n",
    "ax2 = AppsDF.plot(kind='scatter', x='app', y='Attrfreq', color='g', ax=ax1)    \n",
    "\n",
    "print(ax1 == ax2)  # True"
   ]
  },
  {
   "cell_type": "markdown",
   "metadata": {
    "id": "FQj5O9iN_ntU"
   },
   "source": [
    "the graph above shows the total frequency of ad clicks (in red) for every app, and the total frequency of attributions (in green) for every app.\n",
    "So, we can notice that there are some applications in which the click traffic is much higher than the attribution traffic, which can indicate that there might be some fraud or fake clicks."
   ]
  },
  {
   "cell_type": "code",
   "execution_count": null,
   "metadata": {
    "id": "adf0aa3d",
    "outputId": "bc99b084-b77c-43bb-9546-49d957dfbf3b"
   },
   "outputs": [
    {
     "data": {
      "image/png": "[encoded data removed]",
      "text/plain": [
       "<Figure size 1440x720 with 1 Axes>"
      ]
     },
     "metadata": {
      "needs_background": "light"
     },
     "output_type": "display_data"
    }
   ],
   "source": [
    "plt.rcParams[\"figure.figsize\"] = (20,10)\n",
    "\n",
    "ax = AppsDF.plot.bar(x='app', y='Attr %', rot=0)\n",
    "\n"
   ]
  },
  {
   "cell_type": "markdown",
   "metadata": {
    "id": "PIiSXy1gAc9W"
   },
   "source": [
    "the graph shows each app with its attribution percentage. We can see that most of the apps have attribution percentages that are less than 50%."
   ]
  },
  {
   "cell_type": "markdown",
   "metadata": {
    "id": "75e0b3c9"
   },
   "source": [
    "## 2. Fake Traffic Cases:"
   ]
  },
  {
   "cell_type": "markdown",
   "metadata": {
    "id": "b3827972"
   },
   "source": [
    "### 1. Time difference between the click time and attributed time is very small -> fake downloads (not actual users)"
   ]
  },
  {
   "cell_type": "code",
   "execution_count": null,
   "metadata": {
    "id": "qetTtXWMDbpc"
   },
   "outputs": [],
   "source": [
    "data.loc[conversion_time< 1, \"real/fake\"] = \"F\""
   ]
  },
  {
   "cell_type": "markdown",
   "metadata": {
    "id": "6f59fbdc"
   },
   "source": [
    "### 2. Sudden increase in traffic in a specific ad publisher"
   ]
  },
  {
   "cell_type": "markdown",
   "metadata": {
    "id": "0WpvZ23oBGuF"
   },
   "source": [
    "firsly, we will filter publishers and choose the ones which their attribution percentage is low, and we will set a threshold based on the following graph."
   ]
  },
  {
   "cell_type": "code",
   "execution_count": null,
   "metadata": {
    "id": "1c88fcf1"
   },
   "outputs": [],
   "source": [
    "# pick publishers where attr percentage is low \n",
    "# examine these publishers \n",
    "\n",
    "PublishersCounts = data['channel'].value_counts()\n",
    "publish_df=pd.DataFrame()\n",
    "publish_df=PublishersCounts.to_frame( name=\"freq\")\n",
    "publishAttrCounts = subset_df['channel'].value_counts()\n",
    "publish_df2=pd.DataFrame()\n",
    "publish_df2=publishAttrCounts.to_frame( name=\"Attrfreq\")\n",
    "PublishDF = pd.concat([publish_df,publish_df2], axis=1)\n",
    "PublishDF['Attr %'] = (PublishDF['Attrfreq']/PublishDF['freq'])*100\n",
    "\n",
    "PublishDF['channel'] = PublishDF.index\n",
    "PublishDF.insert(0, 'channel',PublishDF.pop('channel'))"
   ]
  },
  {
   "cell_type": "code",
   "execution_count": null,
   "metadata": {
    "id": "484dc1ce",
    "outputId": "1d2294b2-15a7-4c51-e385-a48084ca5953"
   },
   "outputs": [
    {
     "data": {
      "text/html": [
       "<div>\n",
       "<style scoped>\n",
       "    .dataframe tbody tr th:only-of-type {\n",
       "        vertical-align: middle;\n",
       "    }\n",
       "\n",
       "    .dataframe tbody tr th {\n",
       "        vertical-align: top;\n",
       "    }\n",
       "\n",
       "    .dataframe thead th {\n",
       "        text-align: right;\n",
       "    }\n",
       "</style>\n",
       "<table border=\"1\" class=\"dataframe\">\n",
       "  <thead>\n",
       "    <tr style=\"text-align: right;\">\n",
       "      <th></th>\n",
       "      <th>channel</th>\n",
       "      <th>freq</th>\n",
       "      <th>Attrfreq</th>\n",
       "      <th>Attr %</th>\n",
       "    </tr>\n",
       "  </thead>\n",
       "  <tbody>\n",
       "    <tr>\n",
       "      <th>0.0</th>\n",
       "      <td>0.0</td>\n",
       "      <td>647</td>\n",
       "      <td>45.0</td>\n",
       "      <td>6.955178</td>\n",
       "    </tr>\n",
       "    <tr>\n",
       "      <th>3.0</th>\n",
       "      <td>3.0</td>\n",
       "      <td>403725</td>\n",
       "      <td>150.0</td>\n",
       "      <td>0.037154</td>\n",
       "    </tr>\n",
       "    <tr>\n",
       "      <th>4.0</th>\n",
       "      <td>4.0</td>\n",
       "      <td>356</td>\n",
       "      <td>31.0</td>\n",
       "      <td>8.707865</td>\n",
       "    </tr>\n",
       "    <tr>\n",
       "      <th>5.0</th>\n",
       "      <td>5.0</td>\n",
       "      <td>3684</td>\n",
       "      <td>1773.0</td>\n",
       "      <td>48.127036</td>\n",
       "    </tr>\n",
       "    <tr>\n",
       "      <th>13.0</th>\n",
       "      <td>13.0</td>\n",
       "      <td>34051</td>\n",
       "      <td>9.0</td>\n",
       "      <td>0.026431</td>\n",
       "    </tr>\n",
       "  </tbody>\n",
       "</table>\n",
       "</div>"
      ],
      "text/plain": [
       "      channel    freq  Attrfreq     Attr %\n",
       "0.0       0.0     647      45.0   6.955178\n",
       "3.0       3.0  403725     150.0   0.037154\n",
       "4.0       4.0     356      31.0   8.707865\n",
       "5.0       5.0    3684    1773.0  48.127036\n",
       "13.0     13.0   34051       9.0   0.026431"
      ]
     },
     "execution_count": 81,
     "metadata": {},
     "output_type": "execute_result"
    }
   ],
   "source": [
    "PublishDF.head()\n"
   ]
  },
  {
   "cell_type": "code",
   "execution_count": null,
   "metadata": {
    "id": "9637dc38",
    "outputId": "445d1b47-7cbd-463e-8155-b732dfdd13ee"
   },
   "outputs": [
    {
     "name": "stdout",
     "output_type": "stream",
     "text": [
      "AxesSubplot(0.125,0.125;0.775x0.755)\n"
     ]
    },
    {
     "data": {
      "image/png": "[encoded data removed]",
      "text/plain": [
       "<Figure size 1080x720 with 1 Axes>"
      ]
     },
     "metadata": {
      "needs_background": "light"
     },
     "output_type": "display_data"
    }
   ],
   "source": [
    "plt.rcParams[\"figure.figsize\"] = (15,10)\n",
    "\n",
    "ax1 = PublishDF.plot(kind='scatter', x='channel', y='Attr %', color='g')    \n",
    "print(ax1)\n"
   ]
  },
  {
   "cell_type": "markdown",
   "metadata": {
    "id": "zxqgofJTBq2v"
   },
   "source": [
    "So, according to the graph, there are many publishers that have attribution percentages that are very close to zero, which means that most (nearly all) of the users who click on ads through these publishers do not download the app. For that reason, we will only examine those publishers under different times of the day and inspect if they encountered any sudden increased traffic."
   ]
  },
  {
   "cell_type": "code",
   "execution_count": null,
   "metadata": {
    "id": "58b9df83"
   },
   "outputs": [],
   "source": [
    "# Consider publishers with attribution rate < 5 %\n",
    "examinedChannels = PublishDF[PublishDF[\"Attr %\"] < 5 ]\n",
    "\n",
    "examinedRows = data[data[\"channel\"].isin(examinedChannels['channel']) ] #data which attributed = 1\n"
   ]
  },
  {
   "cell_type": "code",
   "execution_count": null,
   "metadata": {
    "id": "e5a4d49f",
    "outputId": "63e3219d-b9ea-4003-d2de-1c9696ace4fd"
   },
   "outputs": [
    {
     "data": {
      "text/html": [
       "<div>\n",
       "<style scoped>\n",
       "    .dataframe tbody tr th:only-of-type {\n",
       "        vertical-align: middle;\n",
       "    }\n",
       "\n",
       "    .dataframe tbody tr th {\n",
       "        vertical-align: top;\n",
       "    }\n",
       "\n",
       "    .dataframe thead th {\n",
       "        text-align: right;\n",
       "    }\n",
       "</style>\n",
       "<table border=\"1\" class=\"dataframe\">\n",
       "  <thead>\n",
       "    <tr style=\"text-align: right;\">\n",
       "      <th></th>\n",
       "      <th>ip</th>\n",
       "      <th>app</th>\n",
       "      <th>device</th>\n",
       "      <th>os</th>\n",
       "      <th>channel</th>\n",
       "      <th>click_time</th>\n",
       "      <th>attributed_time</th>\n",
       "      <th>is_attributed</th>\n",
       "      <th>conversion_time</th>\n",
       "      <th>real/fake</th>\n",
       "    </tr>\n",
       "  </thead>\n",
       "  <tbody>\n",
       "    <tr>\n",
       "      <th>0</th>\n",
       "      <td>83230</td>\n",
       "      <td>3.0</td>\n",
       "      <td>1.0</td>\n",
       "      <td>13.0</td>\n",
       "      <td>379.0</td>\n",
       "      <td>2017-11-06 14:32:21</td>\n",
       "      <td>NaT</td>\n",
       "      <td>0.0</td>\n",
       "      <td>NaN</td>\n",
       "      <td>R</td>\n",
       "    </tr>\n",
       "    <tr>\n",
       "      <th>1</th>\n",
       "      <td>17357</td>\n",
       "      <td>3.0</td>\n",
       "      <td>1.0</td>\n",
       "      <td>19.0</td>\n",
       "      <td>379.0</td>\n",
       "      <td>2017-11-06 14:33:34</td>\n",
       "      <td>NaT</td>\n",
       "      <td>0.0</td>\n",
       "      <td>NaN</td>\n",
       "      <td>R</td>\n",
       "    </tr>\n",
       "    <tr>\n",
       "      <th>2</th>\n",
       "      <td>35810</td>\n",
       "      <td>3.0</td>\n",
       "      <td>1.0</td>\n",
       "      <td>13.0</td>\n",
       "      <td>379.0</td>\n",
       "      <td>2017-11-06 14:34:12</td>\n",
       "      <td>NaT</td>\n",
       "      <td>0.0</td>\n",
       "      <td>NaN</td>\n",
       "      <td>R</td>\n",
       "    </tr>\n",
       "    <tr>\n",
       "      <th>3</th>\n",
       "      <td>45745</td>\n",
       "      <td>14.0</td>\n",
       "      <td>1.0</td>\n",
       "      <td>13.0</td>\n",
       "      <td>478.0</td>\n",
       "      <td>2017-11-06 14:34:52</td>\n",
       "      <td>NaT</td>\n",
       "      <td>0.0</td>\n",
       "      <td>NaN</td>\n",
       "      <td>R</td>\n",
       "    </tr>\n",
       "    <tr>\n",
       "      <th>4</th>\n",
       "      <td>161007</td>\n",
       "      <td>3.0</td>\n",
       "      <td>1.0</td>\n",
       "      <td>13.0</td>\n",
       "      <td>379.0</td>\n",
       "      <td>2017-11-06 14:35:08</td>\n",
       "      <td>NaT</td>\n",
       "      <td>0.0</td>\n",
       "      <td>NaN</td>\n",
       "      <td>R</td>\n",
       "    </tr>\n",
       "  </tbody>\n",
       "</table>\n",
       "</div>"
      ],
      "text/plain": [
       "       ip   app  device    os  channel          click_time attributed_time  \\\n",
       "0   83230   3.0     1.0  13.0    379.0 2017-11-06 14:32:21             NaT   \n",
       "1   17357   3.0     1.0  19.0    379.0 2017-11-06 14:33:34             NaT   \n",
       "2   35810   3.0     1.0  13.0    379.0 2017-11-06 14:34:12             NaT   \n",
       "3   45745  14.0     1.0  13.0    478.0 2017-11-06 14:34:52             NaT   \n",
       "4  161007   3.0     1.0  13.0    379.0 2017-11-06 14:35:08             NaT   \n",
       "\n",
       "   is_attributed  conversion_time real/fake  \n",
       "0            0.0              NaN         R  \n",
       "1            0.0              NaN         R  \n",
       "2            0.0              NaN         R  \n",
       "3            0.0              NaN         R  \n",
       "4            0.0              NaN         R  "
      ]
     },
     "execution_count": 86,
     "metadata": {},
     "output_type": "execute_result"
    }
   ],
   "source": [
    "examinedRows.head()"
   ]
  },
  {
   "cell_type": "code",
   "execution_count": null,
   "metadata": {
    "id": "8923209a",
    "outputId": "d7494d3b-621d-4f85-9707-ec021aae578a"
   },
   "outputs": [
    {
     "data": {
      "text/plain": [
       "132"
      ]
     },
     "execution_count": 88,
     "metadata": {},
     "output_type": "execute_result"
    }
   ],
   "source": [
    "len(examinedChannels.index)"
   ]
  },
  {
   "cell_type": "code",
   "execution_count": null,
   "metadata": {
    "id": "6f1d3b60"
   },
   "outputs": [],
   "source": [
    "examinedRows['Click_Hour'] = examinedRows['click_time'].apply(lambda x: x.hour)\n"
   ]
  },
  {
   "cell_type": "code",
   "execution_count": null,
   "metadata": {
    "id": "62fe7c40"
   },
   "outputs": [],
   "source": [
    "examinedRows['Click_Date'] = examinedRows['click_time'].apply(lambda x: x.date())\n"
   ]
  },
  {
   "cell_type": "code",
   "execution_count": null,
   "metadata": {
    "id": "_JB8LnmJC3Pk"
   },
   "outputs": [],
   "source": [
    "#heat map: x is every hour \n",
    "#y is publishers under examination \n",
    "#color is click frequency"
   ]
  },
  {
   "cell_type": "code",
   "execution_count": null,
   "metadata": {
    "id": "TMSk6LmIt_uE"
   },
   "outputs": [],
   "source": [
    "\n",
    "import pandas as pd\n",
    "import numpy as np\n",
    "from pandas import Series\n",
    "from numpy.random import randn\n",
    "import matplotlib.pyplot as plt\n",
    "\n",
    "data=pd.read_csv('dianji.csv', error_bad_lines=False)\n",
    "\n",
    "data['real/fake'] = 'R'\n",
    "\n",
    "We want to find Multiple clicks by same (device+os+ip) at around same time (Threshold = 1 min) without attribution\n",
    "\n",
    "\n",
    "First, Select only useful columns that are not attributed\n",
    "\n",
    "non_attr = data[(data[\"is_attributed\"] < 1.0) & (data[\"real/fake\"] != 'F')]\n",
    "uniques = non_attr[[\"ip\", \"device\", \"os\",\"click_time\"]]\n",
    "\n",
    "Next, we want to find for each unique (ip,device,os) if more than 20 clicks without attribution then potential fake\n",
    "\n",
    "First, group same ip,device and os. Then, for entries duplicated more than 20 times (+20 clicks), add to fake counter to get the fake traffic amount coming from this premise. Then, label them in the main dataframe.\n",
    "\n",
    "data_count = uniques.groupby(['ip', 'device', 'os']).size()\n",
    "fake_counter = 0\n",
    "for items in data_count.iteritems():\n",
    "    if items[1] > 20:\n",
    "        fake_counter = fake_counter + 1\n",
    "        if fake_counter < 1000: print(items)\n",
    "        data.loc[[data.ip == items[0][0], data.device == items[0][1], data.os == items[0][2]], 'real/fake'] = \"F\"\n",
    "print(fake_counter)\n",
    "\n",
    "We now know that 585,942 of the entries were fake because of the current reason and labeled them. Now, remove redundant df.\n",
    "\n",
    "del uniques\n",
    "del non_attr\n",
    "\n",
    "Now, let us visualize what we achieved\n",
    "\n",
    "Percentage of real/Fake Traffic (Pie Chart)\n",
    "\n",
    "#Data Sum\n",
    "sum_Data = data.sum()\n",
    "\n",
    "# Dataset\n",
    "million = 1000000\n",
    "pilabels = ['Real Traffic', 'Fake Taffic']\n",
    "count_Fake = data[(data.real/fake != 'R') & (data[\"real/fake\"] != 'F')].sum()\n",
    "count_Real = sum_Data - count_Fake\n",
    "diagram1_data = [count_Real/million, count_Fake/million]\n",
    "\n",
    "# Creating autocpt arguments\n",
    "def func(pct, allvalues):\n",
    "    absolute = int(pct / 100.*np.sum(allvalues))\n",
    "    return \"{:.1f}%\\n({:.1f} Million Clicks)\".format(pct, absolute)\n",
    "\n",
    "# Creating plot\n",
    "fig = plt.figure(figsize =(10, 7))\n",
    "plt.title('Web Traffic Analysis')\n",
    "\n",
    "plt.pie(diagram1_data, labels = pilabels, autopct=lambda pct: func(pct,diagram1_data))\n",
    "\n",
    "# show plot\n",
    "plt.show()\n",
    "\n",
    "Percentage of attributed/non Attributed (Pie Chart) from real traffic\n",
    "\n",
    "# Dataset\n",
    "pilabels = ['Attributed', 'Non-Attributed']\n",
    "count_attr = data[(data.is_attributed > 0.0) & (data[\"real/fake\"] != 'F')].sum()\n",
    "count_non_attr = sum_Data - count_attr\n",
    "diagram2_data = [count_attr/million, count_non_attr/million]\n",
    "\n",
    "# Creating plot\n",
    "fig2 = plt.figure(figsize =(10, 7))\n",
    "plt.title('Web Traffic Analysis')\n",
    "\n",
    "plt.pie(diagram2_data, labels = pilabels, autopct=lambda pct: func(pct,diagram2_data))\n",
    "\n",
    "# show plot\n",
    "plt.show()\n",
    "\n",
    "Top 5 Channels with highest Conversions\n",
    "\n",
    "top_perc = data.groupby(['channel']).count()\n",
    "top_perc['attribution_per'] = top_perc['attributed_time']/top_perc['click_time']*100\n",
    "top_perc = top_perc[[\"click_time\",\"attributed_time\", 'attribution_per']]\n",
    "top_perc = top_perc.reset_index()\n",
    "top_perc = top_perc.nlargest(n=10, columns = 'attribution_per')\n",
    "top_perc['channel'] = top_perc['channel'].astype(str)\n",
    "top_perc.plot.bar(x='channel', y='attribution percentage')"
   ]
  },
  {
   "cell_type": "markdown",
   "metadata": {
    "id": "yAMQWEk77Dl_"
   },
   "source": [
    "###3. an IP address with a bunch of click timestamps but no action timestamps - not time constrained (Same IP visiting multiple ads with multiple channels but no attribution)\n"
   ]
  },
  {
   "cell_type": "code",
   "execution_count": null,
   "metadata": {
    "id": "thIJvxTz7LD9"
   },
   "outputs": [],
   "source": [
    "non_attr = data[data[\"is_attributed\"] == 0]\n",
    "uniques = non_attr[['ip', 'app', 'channel']]"
   ]
  },
  {
   "cell_type": "code",
   "execution_count": null,
   "metadata": {
    "id": "Oe3Vg0fZ50IN",
    "outputId": "1c516446-56d4-4a98-e5ed-69ddb68ab053"
   },
   "outputs": [
    {
     "data": {
      "text/plain": [
       "ip      app \n",
       "5       2.0     4\n",
       "        3.0     5\n",
       "        6.0     1\n",
       "        9.0     1\n",
       "        12.0    1\n",
       "               ..\n",
       "287540  9.0     5\n",
       "        12.0    4\n",
       "        14.0    1\n",
       "        15.0    4\n",
       "        18.0    1\n",
       "Length: 2377179, dtype: int64"
      ]
     },
     "execution_count": 5,
     "metadata": {},
     "output_type": "execute_result"
    }
   ],
   "source": [
    "data_count = uniques.groupby(['ip', 'app']).size()\n",
    "data_count"
   ]
  },
  {
   "cell_type": "code",
   "execution_count": null,
   "metadata": {
    "id": "INOFToRI50IN",
    "outputId": "704d6e27-61eb-4ab0-b2ee-f82bafbd08a2"
   },
   "outputs": [
    {
     "data": {
      "text/plain": [
       "544054"
      ]
     },
     "execution_count": 6,
     "metadata": {},
     "output_type": "execute_result"
    }
   ],
   "source": [
    "fake_counter = 0\n",
    "for items in data_count.iteritems():\n",
    "    if items[1] > 20:\n",
    "        fake_counter += 1\n",
    "        data.loc[[data.ip == items[0][0], data.app == items[0][1], 'real/fake'] = \"F\"\n",
    "fake_counter"
   ]
  },
  {
   "cell_type": "markdown",
   "metadata": {
    "id": "fwYSIRub8srH"
   },
   "source": [
    "### 4. Multiple clicks by same (device+os+ip) without attribution"
   ]
  },
  {
   "cell_type": "markdown",
   "metadata": {
    "id": "B3SigYCX-Rfh"
   },
   "source": [
    "First, Select only useful columns that are not attributed"
   ]
  },
  {
   "cell_type": "code",
   "execution_count": null,
   "metadata": {
    "id": "uHgVg2Xr-Gay"
   },
   "outputs": [],
   "source": [
    "non_attr = data[(data[\"is_attributed\"] < 1.0) & (data[\"real/fake\"] != 'F')]\n",
    "uniques = non_attr[[\"ip\", \"device\", \"os\",\"click_time\"]]"
   ]
  },
  {
   "cell_type": "markdown",
   "metadata": {
    "id": "RiyVqhHZ-Wrx"
   },
   "source": [
    "Next, we want to find for each unique (ip,device,os) if more than 20 clicks without attribution then potential fake\n",
    "\n",
    "First, group same ip,device and os. Then, for entries duplicated more than 20 times (+20 clicks), add to fake counter to get the fake traffic amount coming from this premise. Then, label them in the main dataframe."
   ]
  },
  {
   "cell_type": "code",
   "execution_count": null,
   "metadata": {
    "id": "a3dRvFlv-ZJF"
   },
   "outputs": [],
   "source": [
    "data_count = uniques.groupby(['ip', 'device', 'os']).size()\n",
    "fake_counter = 0\n",
    "for items in data_count.iteritems():\n",
    "    if items[1] > 20:\n",
    "        fake_counter = fake_counter + 1\n",
    "        if fake_counter < 1000: print(items)\n",
    "        data.loc[[data.ip == items[0][0], data.device == items[0][1], data.os == items[0][2]], 'real/fake'] = \"F\"\n",
    "print(fake_counter)"
   ]
  },
  {
   "cell_type": "markdown",
   "metadata": {
    "id": "Iun7KCyk-cTo"
   },
   "source": [
    "We now know that 585,942 of the entries were fake because of the current reason and labeled them. Now, remove redundant df."
   ]
  },
  {
   "cell_type": "code",
   "execution_count": null,
   "metadata": {
    "id": "_-kJ8W0R-fRh"
   },
   "outputs": [],
   "source": [
    "del uniques\n",
    "del non_attr"
   ]
  },
  {
   "cell_type": "markdown",
   "metadata": {
    "id": "cWuohUCz-goZ"
   },
   "source": [
    "Now, let us visualize what we have achieved"
   ]
  },
  {
   "cell_type": "markdown",
   "metadata": {
    "id": "JZl9IYQY-k_h"
   },
   "source": [
    "### Data Visualization"
   ]
  },
  {
   "cell_type": "markdown",
   "metadata": {
    "id": "8bwPJtPXE-vI"
   },
   "source": [
    "Percentage of real/Fake Traffic (Pie Chart)"
   ]
  },
  {
   "cell_type": "code",
   "execution_count": null,
   "metadata": {
    "id": "aeW_GoGUFD-w"
   },
   "outputs": [],
   "source": [
    "#Data Sum\n",
    "sum_Data = data.sum()"
   ]
  },
  {
   "cell_type": "code",
   "execution_count": null,
   "metadata": {
    "id": "ur4uR4uUFPwC"
   },
   "outputs": [],
   "source": [
    "# Dataset\n",
    "million = 1000000\n",
    "pilabels = ['Real Traffic', 'Fake Taffic']\n",
    "count_Fake = data[(data.real/fake != 'R') & (data[\"real/fake\"] != 'F')].sum()\n",
    "count_Real = sum_Data - count_Fake\n",
    "diagram1_data = [count_Real/million, count_Fake/million]\n",
    "\n",
    "# Creating autocpt arguments\n",
    "def func(pct, allvalues):\n",
    "    absolute = int(pct / 100.*np.sum(allvalues))\n",
    "    return \"{:.1f}%\\n({:.1f} Million Clicks)\".format(pct, absolute)\n",
    "\n",
    "# Creating plot\n",
    "fig = plt.figure(figsize =(10, 7))\n",
    "plt.title('Web Traffic Analysis')\n",
    "\n",
    "plt.pie(diagram1_data, labels = pilabels, autopct=lambda pct: func(pct,diagram1_data))\n",
    "\n",
    "# show plot\n",
    "plt.show()"
   ]
  },
  {
   "cell_type": "markdown",
   "metadata": {
    "id": "XuWEnbrDFEXV"
   },
   "source": [
    "Percentage of attributed/non Attributed (Pie Chart) from real traffic"
   ]
  },
  {
   "cell_type": "code",
   "execution_count": null,
   "metadata": {
    "id": "l19Clib-FGXA"
   },
   "outputs": [],
   "source": [
    "# Dataset\n",
    "pilabels = ['Attributed', 'Non-Attributed']\n",
    "count_attr = data[(data.is_attributed > 0.0) & (data[\"real/fake\"] != 'F')].sum()\n",
    "count_non_attr = sum_Data - count_attr\n",
    "diagram2_data = [count_attr/million, count_non_attr/million]\n",
    "\n",
    "# Creating plot\n",
    "fig2 = plt.figure(figsize =(10, 7))\n",
    "plt.title('Web Traffic Analysis')\n",
    "\n",
    "plt.pie(diagram2_data, labels = pilabels, autopct=lambda pct: func(pct,diagram2_data))\n",
    "\n",
    "# show plot\n",
    "plt.show()"
   ]
  },
  {
   "cell_type": "markdown",
   "metadata": {
    "id": "kenOOP-fFGlQ"
   },
   "source": [
    "Top 5 Channels with highest Conversions"
   ]
  },
  {
   "cell_type": "code",
   "execution_count": null,
   "metadata": {
    "id": "bTdm-V5gFIDA"
   },
   "outputs": [],
   "source": [
    "top_perc = data.groupby(['channel']).count()\n",
    "top_perc['attribution_per'] = top_perc['attributed_time']/top_perc['click_time']*100\n",
    "top_perc = top_perc[[\"click_time\",\"attributed_time\", 'attribution_per']]\n",
    "top_perc = top_perc.reset_index()\n",
    "top_perc = top_perc.nlargest(n=10, columns = 'attribution_per')\n",
    "top_perc['channel'] = top_perc['channel'].astype(str)\n",
    "top_perc.plot.bar(x='channel', y='attribution percentage')"
   ]
  },
  {
   "cell_type": "code",
   "execution_count": null,
   "metadata": {
    "id": "V9c9EoOyJdij"
   },
   "outputs": [],
   "source": [
    "data_without_fake = data.loc[df['real/fake'] == 'R']\n",
    "data_without_fake "
   ]
  },
  {
   "cell_type": "code",
   "execution_count": null,
   "metadata": {
    "id": "dn52YbkAJFUF"
   },
   "outputs": [],
   "source": [
    "top_perc = data_without_fake.groupby(['channel']).count()\n",
    "top_perc['attribution_per'] = top_perc['attributed_time']/top_perc['click_time']*100\n",
    "top_perc = top_perc[[\"click_time\",\"attributed_time\", 'attribution_per']]\n",
    "top_perc = top_perc.reset_index()\n",
    "top_perc = top_perc.nlargest(n=10, columns = 'attribution_per')\n",
    "top_perc['channel'] = top_perc['channel'].astype(str)\n",
    "top_perc.plot.bar(x='channel', y='attribution percentage')"
   ]
  },
  {
   "cell_type": "markdown",
   "metadata": {
    "id": "k-dg-0AlFVW3"
   },
   "source": [
    "### OTHER"
   ]
  }
 ],
 "metadata": {
  "colab": {
   "collapsed_sections": [
    "b3827972"
   ],
   "name": "Final.ipynb",
   "provenance": []
  },
  "kernelspec": {
   "display_name": "Python 3 (ipykernel)",
   "language": "python",
   "name": "python3"
  },
  "language_info": {
   "codemirror_mode": {
    "name": "ipython",
    "version": 3
   },
   "file_extension": ".py",
   "mimetype": "text/x-python",
   "name": "python",
   "nbconvert_exporter": "python",
   "pygments_lexer": "ipython3",
   "version": "3.8.8"
  }
 },
 "nbformat": 4,
 "nbformat_minor": 1
}
